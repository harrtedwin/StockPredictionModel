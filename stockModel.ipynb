{
 "cells": [
  {
   "cell_type": "markdown",
   "id": "0b9c170f-d8be-48ec-bd34-5bed2f691409",
   "metadata": {
    "tags": []
   },
   "source": [
    "#Stock Price Prediction using Machine Learning"
   ]
  },
  {
   "cell_type": "code",
   "execution_count": 1,
   "id": "a81aec52-d5aa-40d2-b682-40ed8d23359b",
   "metadata": {
    "tags": []
   },
   "outputs": [],
   "source": [
    "## Predicting the stock market is one of the most important applications of Machine Learning in finance."
   ]
  },
  {
   "cell_type": "code",
   "execution_count": 2,
   "id": "dc811618-6fa4-48a3-9b41-0b41b1ab6834",
   "metadata": {},
   "outputs": [],
   "source": [
    "## Importing important Python Libraries\n",
    "import numpy as np\n",
    "import pandas as pd\n",
    "from sklearn import preprocessing\n",
    "from sklearn.model_selection import train_test_split\n",
    "from sklearn.linear_model import LinearRegression"
   ]
  },
  {
   "cell_type": "code",
   "execution_count": 3,
   "id": "7110c4da-c68c-4fd8-b37e-d47715083f5c",
   "metadata": {},
   "outputs": [],
   "source": [
    "## A function that will prepare the dataset so that we can fit it easily in the Linear Regression model:\n",
    "def prepare_data(df,forecast_col,forecast_out,test_size):\n",
    "    label = df[forecast_col].shift(-forecast_out) #creating new column called label with the last 5 rows are nan\n",
    "    X = np.array(df[[forecast_col]]) #creating the feature array\n",
    "    X = preprocessing.scale(X) #processing the feature array\n",
    "    X_lately = X[-forecast_out:] #creating the column i want to use later in the predicting method\n",
    "    X = X[:-forecast_out] # X that will contain the training and testing\n",
    "    label.dropna(inplace=True) #dropping na values\n",
    "    y = np.array(label)  # assigning Y\n",
    "    X_train, X_test, Y_train, Y_test = train_test_split(X, y, test_size=test_size, random_state=0) #cross validation\n",
    "\n",
    "    response = [X_train,X_test , Y_train, Y_test , X_lately]\n",
    "    return response"
   ]
  },
  {
   "cell_type": "code",
   "execution_count": 4,
   "id": "1fe2ce89-a86e-4fa9-8da9-f8a50c8793e4",
   "metadata": {},
   "outputs": [
    {
     "ename": "NameError",
     "evalue": "name 'learner' is not defined",
     "output_type": "error",
     "traceback": [
      "\u001b[1;31m---------------------------------------------------------------------------\u001b[0m",
      "\u001b[1;31mNameError\u001b[0m                                 Traceback (most recent call last)",
      "\u001b[1;32m<ipython-input-4-307e31be5e80>\u001b[0m in \u001b[0;36m<module>\u001b[1;34m\u001b[0m\n\u001b[1;32m----> 1\u001b[1;33m \u001b[0mscore\u001b[0m\u001b[1;33m=\u001b[0m\u001b[0mlearner\u001b[0m\u001b[1;33m.\u001b[0m\u001b[0mscore\u001b[0m\u001b[1;33m(\u001b[0m\u001b[0mX_test\u001b[0m\u001b[1;33m,\u001b[0m\u001b[0mY_test\u001b[0m\u001b[1;33m)\u001b[0m\u001b[1;31m#testing the linear regression model\u001b[0m\u001b[1;33m\u001b[0m\u001b[1;33m\u001b[0m\u001b[0m\n\u001b[0m\u001b[0;32m      2\u001b[0m \u001b[0mforecast\u001b[0m\u001b[1;33m=\u001b[0m \u001b[0mlearner\u001b[0m\u001b[1;33m.\u001b[0m\u001b[0mpredict\u001b[0m\u001b[1;33m(\u001b[0m\u001b[0mX_lately\u001b[0m\u001b[1;33m)\u001b[0m \u001b[1;31m#set that will contain the forecasted data\u001b[0m\u001b[1;33m\u001b[0m\u001b[1;33m\u001b[0m\u001b[0m\n\u001b[0;32m      3\u001b[0m \u001b[0mresponse\u001b[0m\u001b[1;33m=\u001b[0m\u001b[1;33m{\u001b[0m\u001b[1;33m}\u001b[0m\u001b[1;31m#creting json object\u001b[0m\u001b[1;33m\u001b[0m\u001b[1;33m\u001b[0m\u001b[0m\n\u001b[0;32m      4\u001b[0m \u001b[0mresponse\u001b[0m\u001b[1;33m[\u001b[0m\u001b[1;34m'test_score'\u001b[0m\u001b[1;33m]\u001b[0m\u001b[1;33m=\u001b[0m\u001b[0mscore\u001b[0m\u001b[1;33m\u001b[0m\u001b[1;33m\u001b[0m\u001b[0m\n\u001b[0;32m      5\u001b[0m \u001b[0mresponse\u001b[0m\u001b[1;33m[\u001b[0m\u001b[1;34m'forecast_set'\u001b[0m\u001b[1;33m]\u001b[0m\u001b[1;33m=\u001b[0m\u001b[0mforecast\u001b[0m\u001b[1;33m\u001b[0m\u001b[1;33m\u001b[0m\u001b[0m\n",
      "\u001b[1;31mNameError\u001b[0m: name 'learner' is not defined"
     ]
    }
   ],
   "source": [
    "score=learner.score(X_test,Y_test)#testing the linear regression model\n",
    "forecast= learner.predict(X_lately) #set that will contain the forecasted data\n",
    "response={}#creting json object\n",
    "response['test_score']=score\n",
    "response['forecast_set']=forecast\n",
    "\n",
    "print(response)"
   ]
  },
  {
   "cell_type": "code",
   "execution_count": null,
   "id": "df7f177f-cb70-4806-89c8-4a97f53ffd93",
   "metadata": {},
   "outputs": [],
   "source": []
  }
 ],
 "metadata": {
  "kernelspec": {
   "display_name": "Python 3",
   "language": "python",
   "name": "python3"
  },
  "language_info": {
   "codemirror_mode": {
    "name": "ipython",
    "version": 3
   },
   "file_extension": ".py",
   "mimetype": "text/x-python",
   "name": "python",
   "nbconvert_exporter": "python",
   "pygments_lexer": "ipython3",
   "version": "3.8.8"
  }
 },
 "nbformat": 4,
 "nbformat_minor": 5
}
